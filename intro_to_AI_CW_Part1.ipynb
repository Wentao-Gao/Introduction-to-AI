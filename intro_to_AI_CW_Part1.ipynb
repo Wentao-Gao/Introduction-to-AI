{
 "cells": [
  {
   "cell_type": "markdown",
   "metadata": {
    "id": "JWbcE3aQVyJF"
   },
   "source": [
    "# Intro to AI assignment Part 1 ( Bike rental prediction )\n",
    "\n",
    "Student name: Wentao Gao\n",
    "\n",
    "Student number: 2129032\n",
    "\n",
    "School Email: uj21455@bristol.ac.uk"
   ]
  },
  {
   "cell_type": "markdown",
   "metadata": {
    "id": "WPRB8cqEWUiX"
   },
   "source": [
    "## Import dataset"
   ]
  },
  {
   "cell_type": "code",
   "execution_count": null,
   "metadata": {
    "colab": {
     "base_uri": "https://localhost:8080/",
     "height": 676
    },
    "id": "vL4eMLTiWloC",
    "outputId": "8f54d770-8645-484a-e9c2-2bd1cce4f9ac"
   },
   "outputs": [],
   "source": [
    "# Import essential  library\n",
    "import numpy as np\n",
    "import pandas as pd\n",
    "import matplotlib.pyplot as plt\n",
    "import seaborn as sns\n",
    "%matplotlib inline\n",
    "\n",
    "# Ignore warnings\n",
    "import warnings\n",
    "warnings.filterwarnings(\"ignore\")\n",
    "\n",
    "# import dataset and show \n",
    "Bike = pd.read_csv('/Users/apple/Desktop/Intro to ai assignment/coursework_other.csv', encoding= 'unicode_escape')\n",
    "Bike"
   ]
  },
  {
   "cell_type": "markdown",
   "metadata": {
    "id": "rGdxpla4XLlV"
   },
   "source": [
    "Rename the index to have a easier coding."
   ]
  },
  {
   "cell_type": "code",
   "execution_count": null,
   "metadata": {
    "colab": {
     "base_uri": "https://localhost:8080/",
     "height": 423
    },
    "id": "ad7w5p9nW7Bf",
    "outputId": "f0c9e9a6-7a20-497b-d987-3818d4bcaa51"
   },
   "outputs": [],
   "source": [
    " Bike.rename(columns={'Date':'date','Rented Bike Count':'r_b_count','Hour':'hour','Temperature(°C)':'temperature','Humidity(%)':'humidity','Dew point temperature(°C)':'d_p_temperature',\n",
    "                     'Wind speed (m/s)':'wind_speed','Visibility (10m)':'visibility', 'Solar Radiation (MJ/m2)':'solar_radiation','Rainfall(mm)':'rainfall','Snowfall (cm)':'snowfall',\n",
    "                     'Seasons':'seasons','Holiday':'holiday',\n",
    "                     'Functioning Day':'f_day'},inplace=True)\n",
    " Bike"
   ]
  },
  {
   "cell_type": "markdown",
   "metadata": {
    "id": "oquXXqGBYXEd"
   },
   "source": [
    "Observed from the table\n",
    "\n",
    "seasons can be separeted into Spring(1), Summer(2), Autumn(3), Winter(4)。 \n",
    "\n",
    "holiday can be separated into Holiday(1) and No Holiday(0)\n",
    "\n",
    "function day(f_day) can be seoarated into Yes(1) and No(0)\n",
    "\n",
    "year can be separated into 2017 and 2018\n",
    "\n",
    "And the date data type is not easy for us to analyze, so we break it down into years, months and days and delete date."
   ]
  },
  {
   "cell_type": "code",
   "execution_count": null,
   "metadata": {
    "colab": {
     "base_uri": "https://localhost:8080/",
     "height": 487
    },
    "id": "7HKM8SzfYWa0",
    "outputId": "77491888-e178-4ee1-fcba-0a7c5080459c"
   },
   "outputs": [],
   "source": [
    "# replace some feature from text to number for a better analysis\n",
    "Bike.replace(to_replace =\"Spring\", \n",
    "                 value = 1, \n",
    "                 inplace = True)\n",
    "Bike.replace(to_replace =\"Summer\", \n",
    "                 value = 2, \n",
    "                  inplace = True)\n",
    "Bike.replace(to_replace =\"Autumn\", \n",
    "                  value = 3, \n",
    "                  inplace = True)\n",
    "Bike.replace(to_replace =\"Winter\", \n",
    "                 value = 4, \n",
    "                  inplace = True)\n",
    "\n",
    "Bike.replace(to_replace =\"Holiday\", \n",
    "                 value = 1, \n",
    "                  inplace = True)\n",
    "Bike.replace(to_replace =\"No Holiday\", \n",
    "                 value = 0, \n",
    "                  inplace = True)\n",
    "\n",
    "Bike.replace(to_replace =\"Yes\", \n",
    "                 value = 1, \n",
    "                  inplace = True)\n",
    "Bike.replace(to_replace =\"No\", \n",
    "                 value = 0, \n",
    "                  inplace = True)\n",
    "\n",
    "# Devide date into day, month,year\n",
    "Bike[\"day\"] = pd.DatetimeIndex(Bike[\"date\"]).day\n",
    "Bike[\"month\"] = pd.DatetimeIndex(Bike[\"date\"]).month\n",
    "Bike[\"year\"] = pd.DatetimeIndex(Bike[\"date\"]).year\n",
    "\n",
    "#Bike = Bike.drop(['date'],axis = 1)\n",
    "\n",
    "Bike"
   ]
  },
  {
   "cell_type": "markdown",
   "metadata": {
    "id": "wU-7RgiQb83g"
   },
   "source": [
    "## Data analysis"
   ]
  },
  {
   "cell_type": "code",
   "execution_count": null,
   "metadata": {
    "colab": {
     "base_uri": "https://localhost:8080/"
    },
    "id": "JopIxbKhakkh",
    "outputId": "43ccd451-f8f1-4ed0-a3a9-dc0dc5571191"
   },
   "outputs": [],
   "source": [
    "## Firstly, observing the data, we can get that if the data is continue\n",
    "## hour, seasons, holiday, f_day, month, year is class information#\n",
    "## r_b_count, temperature, humidity, wind_speed, visibility, d_p_temperature, solar_radiation, rainfall, snowfall is continue information\n",
    "Bike.nunique()"
   ]
  },
  {
   "cell_type": "markdown",
   "metadata": {},
   "source": [
    "Then, to have a better analysis,  visualizing the data might be a good way."
   ]
  },
  {
   "cell_type": "code",
   "execution_count": null,
   "metadata": {
    "colab": {
     "base_uri": "https://localhost:8080/",
     "height": 841
    },
    "id": "IQKXFyhEdtK4",
    "outputId": "537890af-fe5d-4002-9371-31ec666a44e8"
   },
   "outputs": [],
   "source": [
    "fig,axes = plt.subplots(4,2)\n",
    "fig.set_size_inches(16,14)\n",
    "\n",
    "sns.distplot(Bike['temperature'],bins=60,ax=axes[0,0])\n",
    "sns.distplot(Bike['humidity'],bins=60,ax=axes[0,1])\n",
    "sns.distplot(Bike['wind_speed'],bins=60,ax=axes[1,0])\n",
    "sns.distplot(Bike['visibility'],bins=60,ax=axes[1,1])\n",
    "sns.distplot(Bike['d_p_temperature'],bins=60,ax=axes[2,0])\n",
    "sns.distplot(Bike['rainfall'],bins=60,ax=axes[2,1])\n",
    "sns.distplot(Bike['snowfall'],bins=60,ax=axes[3,0])"
   ]
  },
  {
   "cell_type": "code",
   "execution_count": null,
   "metadata": {
    "colab": {
     "base_uri": "https://localhost:8080/",
     "height": 733
    },
    "id": "Xfk48xXPhI-Q",
    "outputId": "c650a8f4-c774-4d8d-d495-45d0c6a133c8"
   },
   "outputs": [],
   "source": [
    "fig,axes = plt.subplots(4,2)\n",
    "fig.set_size_inches(15,12)\n",
    "\n",
    "sns.boxplot(x='hour', y='r_b_count', data = Bike, orient='v', width=0.6, ax=axes[0,0])\n",
    "sns.boxplot(x='holiday', y='r_b_count', data = Bike, orient='v', width=0.6, ax=axes[0,1])\n",
    "sns.boxplot(x='seasons', y='r_b_count', data = Bike, orient='v', width=0.6, ax=axes[1,0])\n",
    "sns.boxplot(x='holiday',y='r_b_count',data=Bike,orient='v',width=0.6,ax=axes[1,1])\n",
    "sns.boxplot(x='day', y='r_b_count', data = Bike, orient='v', width=0.6, ax=axes[2,0])\n",
    "sns.boxplot(x='month', y='r_b_count', data = Bike, orient='v', width=0.6, ax=axes[2,1])\n",
    "sns.boxplot(x='year', y='r_b_count', data = Bike, orient='v', width=0.6, ax=axes[3,0])\n",
    "sns.boxplot(x='f_day',y='r_b_count',data=Bike,orient='v',width=0.6,ax=axes[3,1])"
   ]
  },
  {
   "cell_type": "code",
   "execution_count": null,
   "metadata": {
    "colab": {
     "base_uri": "https://localhost:8080/",
     "height": 905
    },
    "id": "1_P4esAGkSbn",
    "outputId": "5c8633bb-6643-4bbf-bc81-0670e2d71f1a"
   },
   "outputs": [],
   "source": [
    "corr = Bike.corr()\n",
    "plt.subplots(figsize=(14,14))\n",
    "sns.heatmap(corr,annot=True,vmax=1,cmap='YlGnBu')\n",
    "plt.savefig('test.png')\n",
    "np.abs(corr['r_b_count']).sort_values(ascending=False)"
   ]
  },
  {
   "cell_type": "markdown",
   "metadata": {
    "id": "AWc-d7oZkuSE"
   },
   "source": [
    "### r_b_count and temperature"
   ]
  },
  {
   "cell_type": "code",
   "execution_count": null,
   "metadata": {
    "colab": {
     "base_uri": "https://localhost:8080/",
     "height": 0
    },
    "id": "TEQkGU3Wk1f7",
    "outputId": "fd5cd4d0-aba3-4a80-95c2-629eb93fd0e9"
   },
   "outputs": [],
   "source": [
    "# Overall trend of changes in temperature\n",
    "date = Bike.groupby(['temperature'], as_index=False).agg({'r_b_count':'mean'\n",
    "                                                   })\n",
    "fig = plt.figure(figsize=(18,6))\n",
    "ax = fig.add_subplot(1,1,1)\n",
    "# Total usage\n",
    "plt.plot(date['temperature'], date['r_b_count'], linewidth=1.3)\n",
    "plt.legend()"
   ]
  },
  {
   "cell_type": "markdown",
   "metadata": {
    "id": "LpTx8I2glfoP"
   },
   "source": [
    "### hour and r_b_count"
   ]
  },
  {
   "cell_type": "code",
   "execution_count": null,
   "metadata": {
    "colab": {
     "base_uri": "https://localhost:8080/",
     "height": 0
    },
    "id": "4PYtnig4lW1A",
    "outputId": "a663881f-cea6-48c7-d6dc-f0097f2c9676"
   },
   "outputs": [],
   "source": [
    "# overall trend of changes in hour\n",
    "date = Bike.groupby(['hour'], as_index=False).agg({'r_b_count':'mean'\n",
    "                                                   })\n",
    "fig = plt.figure(figsize=(18,6))\n",
    "ax = fig.add_subplot(1,1,1)\n",
    "\n",
    "# toatal usage\n",
    "plt.plot(date['hour'], date['r_b_count'], linewidth=1.3)\n",
    "plt.legend()"
   ]
  },
  {
   "cell_type": "markdown",
   "metadata": {
    "id": "Qg1MBSU71wsr"
   },
   "source": [
    "### humidity and r_b_count"
   ]
  },
  {
   "cell_type": "code",
   "execution_count": null,
   "metadata": {
    "colab": {
     "base_uri": "https://localhost:8080/",
     "height": 0
    },
    "id": "NcVdbU9P1LJh",
    "outputId": "7fcce3d7-6e6a-4278-8976-11fa0ad42e24"
   },
   "outputs": [],
   "source": [
    "# overall trend of changes in humidity\n",
    "date = Bike.groupby(['humidity'], as_index=False).agg({'r_b_count':'mean'\n",
    "                                                   })\n",
    "fig = plt.figure(figsize=(18,6))\n",
    "ax = fig.add_subplot(1,1,1)\n",
    "\n",
    "# total usage\n",
    "plt.plot(date['humidity'], date['r_b_count'], linewidth=1.3)\n",
    "plt.legend()"
   ]
  },
  {
   "cell_type": "markdown",
   "metadata": {
    "id": "eoZSh7XLWSr3"
   },
   "source": [
    "### visibility and r_b_hour"
   ]
  },
  {
   "cell_type": "code",
   "execution_count": null,
   "metadata": {
    "colab": {
     "base_uri": "https://localhost:8080/",
     "height": 0
    },
    "id": "Uf6i2JcAWRFh",
    "outputId": "0661877d-9965-49aa-d3b6-43a0e208b0ec"
   },
   "outputs": [],
   "source": [
    "# overall trend of changes in visibility\n",
    "date = Bike.groupby(['visibility'], as_index=False).agg({'r_b_count':'mean'\n",
    "                                                   })                                                   \n",
    "fig = plt.figure(figsize=(18,6))\n",
    "ax = fig.add_subplot(1,1,1)\n",
    "\n",
    "# total usage\n",
    "plt.plot(date['visibility'], date['r_b_count'], linewidth=1.3)\n",
    "plt.legend()"
   ]
  },
  {
   "cell_type": "markdown",
   "metadata": {
    "id": "Dv_55AfB2U2W"
   },
   "source": [
    "### d_p_temperature and r_b_count"
   ]
  },
  {
   "cell_type": "code",
   "execution_count": null,
   "metadata": {
    "colab": {
     "base_uri": "https://localhost:8080/",
     "height": 0
    },
    "id": "jHY56q1r18o6",
    "outputId": "90cafea3-7ecb-48d0-a64a-2a75556c896d"
   },
   "outputs": [],
   "source": [
    "# overall trend of changes in d_p_tepreature\n",
    "date = Bike.groupby(['d_p_temperature'], as_index=False).agg({'r_b_count':'mean'\n",
    "                                                   })\n",
    "fig = plt.figure(figsize=(18,6))\n",
    "ax = fig.add_subplot(1,1,1)\n",
    "\n",
    "# total usage\n",
    "plt.plot(date['d_p_temperature'], date['r_b_count'], linewidth=1.3)\n",
    "plt.legend()"
   ]
  },
  {
   "cell_type": "markdown",
   "metadata": {
    "id": "bxKV5eOp3Sq0"
   },
   "source": [
    "### seasons and r_b_count"
   ]
  },
  {
   "cell_type": "code",
   "execution_count": null,
   "metadata": {
    "colab": {
     "base_uri": "https://localhost:8080/",
     "height": 0
    },
    "id": "ducflbDs2w4Q",
    "outputId": "d1ec20f7-7caf-4c55-a299-cdbe190f5632"
   },
   "outputs": [],
   "source": [
    "# overall trend of changes in seasons\n",
    "day_df=Bike.groupby('date').agg({'year':'mean','seasons':'mean',                                     \n",
    "                                      'r_b_count':'sum','temperature':'mean',\n",
    "                                      'd_p_temperature':'mean'})\n",
    "season_df = day_df.groupby(['year','seasons'], as_index=True).agg({'r_b_count':'mean'})\n",
    "temp_df = day_df.groupby(['year','seasons'], as_index=True).agg({'temperature':'mean', \n",
    "                                                                'd_p_temperature':'mean'})\n",
    "\n",
    "fig = plt.figure(figsize=(10,10))\n",
    "xlables = season_df.index.map(lambda x:str(x))\n",
    "\n",
    "ax1 = fig.add_subplot(2,1,1)\n",
    "ax1.set_title('The general trend of count with season in these two years ')\n",
    "\n",
    "plt.plot(xlables,season_df)\n",
    "plt.legend(['count'])\n",
    "\n",
    "ax2 = fig.add_subplot(2,1,2)\n",
    "ax2.set_title('The general trend of count with season in these two years ')\n",
    "plt.plot(xlables,temp_df)\n",
    "\n",
    "plt.legend(['temperature','d_p_temperature'])"
   ]
  },
  {
   "cell_type": "markdown",
   "metadata": {
    "id": "IW1vSWgWS-R7"
   },
   "source": [
    "### solar_radiation and r_b_count"
   ]
  },
  {
   "cell_type": "code",
   "execution_count": null,
   "metadata": {
    "colab": {
     "base_uri": "https://localhost:8080/",
     "height": 0
    },
    "id": "kuxw29Ko3teC",
    "outputId": "568db30e-d9c6-4432-925f-a36319961d9a"
   },
   "outputs": [],
   "source": [
    "# overall trend of changes in solar_radiation\n",
    "date = Bike.groupby(['solar_radiation'], as_index=False).agg({'r_b_count':'mean'\n",
    "                                                   })\n",
    "fig = plt.figure(figsize=(18,6))\n",
    "ax = fig.add_subplot(1,1,1)\n",
    "\n",
    "# total usage\n",
    "plt.plot(date['solar_radiation'], date['r_b_count'], linewidth=1.3)\n",
    "plt.legend()"
   ]
  },
  {
   "cell_type": "markdown",
   "metadata": {
    "id": "MsN79BoeV42j"
   },
   "source": [
    "### rainfall and r_b_count"
   ]
  },
  {
   "cell_type": "code",
   "execution_count": null,
   "metadata": {
    "colab": {
     "base_uri": "https://localhost:8080/",
     "height": 0
    },
    "id": "O_EJo1EGTlGr",
    "outputId": "b90d1ac7-6971-4d10-fa9c-a32e101341ab"
   },
   "outputs": [],
   "source": [
    "# overall trend of changes in rainfall\n",
    "date = Bike.groupby(['rainfall'], as_index=False).agg({'r_b_count':'mean'\n",
    "                                                   })\n",
    "fig = plt.figure(figsize=(18,6))\n",
    "ax = fig.add_subplot(1,1,1)\n",
    "\n",
    "# total usage\n",
    "plt.plot(date['rainfall'], date['r_b_count'], linewidth=1.3)\n",
    "plt.legend()"
   ]
  },
  {
   "cell_type": "markdown",
   "metadata": {
    "id": "FlaeYKNnV-bS"
   },
   "source": [
    "### snowfall and r_b_count"
   ]
  },
  {
   "cell_type": "code",
   "execution_count": null,
   "metadata": {
    "colab": {
     "base_uri": "https://localhost:8080/",
     "height": 0
    },
    "id": "H6Wo7TFiT78i",
    "outputId": "b06b8283-d8f9-4879-c7e5-bf51b3f37a77"
   },
   "outputs": [],
   "source": [
    "  # overall trend of changes in snowfall\n",
    "date = Bike.groupby(['snowfall'], as_index=False).agg({'r_b_count':'mean'\n",
    "                                                   })\n",
    "fig = plt.figure(figsize=(18,6))\n",
    "ax = fig.add_subplot(1,1,1)\n",
    "\n",
    "# total usage\n",
    "plt.plot(date['snowfall'], date['r_b_count'], linewidth=1.3)\n",
    "plt.legend()"
   ]
  },
  {
   "cell_type": "markdown",
   "metadata": {
    "id": "3w7PR-g4Wlh1"
   },
   "source": [
    "### wind_speed and r_b_count"
   ]
  },
  {
   "cell_type": "code",
   "execution_count": null,
   "metadata": {
    "colab": {
     "base_uri": "https://localhost:8080/",
     "height": 0
    },
    "id": "d8cZivWpUeK1",
    "outputId": "852d89e4-37eb-4956-aa65-fd54c7762667"
   },
   "outputs": [],
   "source": [
    "# overall trend of changes in wind_speed\n",
    "date = Bike.groupby(['wind_speed'], as_index=False).agg({'r_b_count':'mean'\n",
    "                                                   })\n",
    "fig = plt.figure(figsize=(18,6))\n",
    "ax = fig.add_subplot(1,1,1)\n",
    "\n",
    "# total usage\n",
    "plt.plot(date['wind_speed'], date['r_b_count'], linewidth=1.3)\n",
    "plt.legend()"
   ]
  },
  {
   "cell_type": "markdown",
   "metadata": {
    "id": "mpPBUy2KWzTp"
   },
   "source": [
    "### Date and r_b_hour"
   ]
  },
  {
   "cell_type": "code",
   "execution_count": null,
   "metadata": {
    "colab": {
     "base_uri": "https://localhost:8080/",
     "height": 0
    },
    "id": "9BKPEOHUW3qT",
    "outputId": "e35366f3-df6e-449c-b249-3124face441c"
   },
   "outputs": [],
   "source": [
    "day_df = Bike.groupby(['date'], as_index=False).agg({\n",
    "                                                          'r_b_count':'sum', 'f_day':'mean',\n",
    "                                                          'holiday':'mean', 'seasons':'mean', 'month':'mean',\n",
    "                                                          'year':'mean'})\n",
    "day_df.head()\n"
   ]
  },
  {
   "cell_type": "code",
   "execution_count": null,
   "metadata": {
    "colab": {
     "base_uri": "https://localhost:8080/",
     "height": 0
    },
    "id": "AdPdkpaFXhjS",
    "outputId": "3f492766-c5f9-4d7b-9f5a-6006755c53dd"
   },
   "outputs": [],
   "source": [
    "sns.catplot(x=\"f_day\", y=\"r_b_count\", data=Bike)"
   ]
  },
  {
   "cell_type": "code",
   "execution_count": null,
   "metadata": {
    "colab": {
     "base_uri": "https://localhost:8080/",
     "height": 0
    },
    "id": "2sJ-S4GQ4W-_",
    "outputId": "cec45de3-1971-490e-b345-618a2a7cf8a2"
   },
   "outputs": [],
   "source": [
    "Bike\n"
   ]
  },
  {
   "cell_type": "markdown",
   "metadata": {
    "id": "5bW8E0opO2GJ"
   },
   "source": [
    "## Data preparation"
   ]
  },
  {
   "cell_type": "code",
   "execution_count": null,
   "metadata": {
    "id": "gwWnxJXxR_Sd"
   },
   "outputs": [],
   "source": [
    "Bike = Bike.drop(['date'],axis = 1)"
   ]
  },
  {
   "cell_type": "code",
   "execution_count": null,
   "metadata": {
    "id": "qkqj-hO-Yz5a"
   },
   "outputs": [],
   "source": [
    "# source feature\n",
    "source_X = Bike.drop(['r_b_count'],axis = 1)\n",
    "\n",
    "# source label\n",
    "source_y  = np.log1p(Bike['r_b_count'])\n",
    "\n",
    "# train set feature\n",
    "pred_X = Bike.drop(['r_b_count'],axis = 1)"
   ]
  },
  {
   "cell_type": "markdown",
   "metadata": {
    "id": "uFSrpf6-Q9z5"
   },
   "source": [
    "## Model"
   ]
  },
  {
   "cell_type": "code",
   "execution_count": null,
   "metadata": {
    "id": "_DxgOSSIPwWm"
   },
   "outputs": [],
   "source": [
    "from sklearn.model_selection import GridSearchCV\n",
    "\n",
    "# Evaluation function\n",
    "def get_best_model_and_accuracy(model, params, X, y):\n",
    "    grid = GridSearchCV(model, # The model needed to be search\n",
    "                        params, # Parameters needed to be try\n",
    "                        n_jobs=-1,\n",
    "                        error_score=0.) # The result returns to 0 if error\n",
    "    grid.fit(X, y) # fit model and parameters\n",
    "    # classical performance indicators\n",
    "    print(\"Best Accuracy: {}\".format(grid.best_score_))\n",
    "    # The best parameters to get the best accuracy\n",
    "    print(\"Best Parameters: {}\".format(grid.best_params_))\n",
    "    # Average time to fit (seconds)\n",
    "    print(\"Average Time to Fit (s): {}\".format(round(grid.cv_results_['mean_fit_time'].mean(), 3)))\n",
    "    # The average time of the prediction (in seconds)\n",
    "    # The performance of the model in the real world can be seen from this metric\n",
    "    print(\"Average Time to Score (s): {}\".format(round(grid.cv_results_['mean_score_time'].mean(), 3)))\n",
    "    return grid"
   ]
  },
  {
   "cell_type": "code",
   "execution_count": null,
   "metadata": {
    "colab": {
     "base_uri": "https://localhost:8080/"
    },
    "id": "DIkqdg8rRGXg",
    "outputId": "1aee69b7-11c5-4925-b695-814e32b5297d"
   },
   "outputs": [],
   "source": [
    "from sklearn.model_selection import train_test_split \n",
    "\n",
    "# Delineate the data set\n",
    "train_X, test_X, train_y, test_y = train_test_split(source_X,\n",
    "                                                    source_y,\n",
    "                                                    train_size = 0.80,\n",
    "                                                    random_state = 42\n",
    "                                                    )\n",
    "\n",
    "# Output data set size\n",
    "print ('Original dataset feature：',source_X.shape, 'Training dataset feature：',train_X.shape,'Testing dataset feature：',test_X.shape)\n",
    "\n",
    "print ('Original dataset feature：',source_y.shape, 'Training dataset feature：',train_y.shape,'Teating dataset feature：',test_y.shape)"
   ]
  },
  {
   "cell_type": "code",
   "execution_count": null,
   "metadata": {},
   "outputs": [],
   "source": [
    "# Import essential library of metrics\n",
    "from sklearn.metrics import mean_squared_error\n",
    "from sklearn.metrics import mean_absolute_error\n",
    "from sklearn.metrics import r2_score"
   ]
  },
  {
   "cell_type": "markdown",
   "metadata": {
    "id": "pVtVlBmzwHbQ"
   },
   "source": [
    "### Baseline"
   ]
  },
  {
   "cell_type": "code",
   "execution_count": null,
   "metadata": {
    "colab": {
     "base_uri": "https://localhost:8080/"
    },
    "id": "PEL4vIrwmjGA",
    "outputId": "551ddb19-5d73-4e0d-b458-27d8b9000880"
   },
   "outputs": [],
   "source": [
    "from sklearn.dummy import DummyRegressor\n",
    "\n",
    "\n",
    "# create a dummy regressor\n",
    "dummy_reg = DummyRegressor(strategy='mean')\n",
    "# fit it on the training set\n",
    "dummy_reg.fit(train_X, train_y)\n",
    "# make predictions on the test set\n",
    "y_pred = dummy_reg.predict(test_X)\n",
    "\n",
    "# calculate root mean squared error\n",
    "mse = mean_squared_error(test_y, y_pred)\n",
    "dummy_rmse = np.sqrt(mse)\n",
    "rmse = mse ** 0.5\n",
    "mae = mean_absolute_error(y_pred,test_y.values)\n",
    "\n",
    "print(\"Dummy R2_score:\", r2_score(test_y, y_pred))\n",
    "print(\"Dummy RMSE:\", rmse)\n",
    "print(\"Dummy MAE:\", mae)"
   ]
  },
  {
   "cell_type": "code",
   "execution_count": null,
   "metadata": {
    "colab": {
     "base_uri": "https://localhost:8080/",
     "height": 286
    },
    "id": "8i5goQ1knciT",
    "outputId": "39597823-a3cb-4d88-da08-8c521db6774f"
   },
   "outputs": [],
   "source": [
    "plt.ylim(0, 10)\n",
    "plt.xlim(0, 10)\n",
    "plt.scatter(y_pred,test_y,color='black')\n",
    "x = np.linspace(0,1000,100) \n",
    "y=x\n",
    "plt.plot(x, y,color='blue')\n",
    "plt.savefig('base_plot.png')"
   ]
  },
  {
   "cell_type": "markdown",
   "metadata": {
    "id": "TpY9r1u2-b_A"
   },
   "source": [
    "### Linear regression"
   ]
  },
  {
   "cell_type": "code",
   "execution_count": null,
   "metadata": {
    "id": "tqhrQL0fLzMq"
   },
   "outputs": [],
   "source": [
    "from sklearn.linear_model import LinearRegression\n",
    "# 1.Initialize the learner instance with the default configuration\n",
    "lr = LinearRegression(normalize=True)\n",
    "\n",
    "# 2.Training model parameters with training data\n",
    "lr_model = lr.fit(train_X, train_y)\n",
    "\n",
    "# 3. Prediction of the test set with the trained model\n",
    "y_test_pred_lr = lr_model.predict(test_X)\n",
    "y_train_pred_lr = lr_model.predict(train_X)"
   ]
  },
  {
   "cell_type": "code",
   "execution_count": null,
   "metadata": {
    "colab": {
     "base_uri": "https://localhost:8080/"
    },
    "id": "E4UQDECSitJu",
    "outputId": "738474e9-4fd5-4375-b689-e71465c64409"
   },
   "outputs": [],
   "source": [
    "lr_model.score(test_X,test_y)"
   ]
  },
  {
   "cell_type": "code",
   "execution_count": null,
   "metadata": {
    "colab": {
     "base_uri": "https://localhost:8080/"
    },
    "id": "IghzS1BwMMem",
    "outputId": "4842d7ed-8561-4890-ec4f-bbecdebe4d1c"
   },
   "outputs": [],
   "source": [
    "# RMSE(RMSE=MSE**0.5)\n",
    "train_RMSE_lr = mean_squared_error(train_y, y_train_pred_lr)**0.5\n",
    "test_RMSE_lr = mean_squared_error(test_y, y_test_pred_lr)**0.5\n",
    "\n",
    "print(\"test_RMSE_lr:\",test_RMSE_lr)\n",
    "print(\"train_RMSE_lr:\",train_RMSE_lr)\n",
    "\n",
    "# r2_score\n",
    "train_r2_score_lr = r2_score(train_y, y_train_pred_lr)\n",
    "test_r2_score_lr = r2_score(test_y, y_test_pred_lr)\n",
    "\n",
    "print(\"test_r2_score_lr\",test_r2_score_lr)\n",
    "print(\"train_r2_score_lr:\",train_r2_score_lr)"
   ]
  },
  {
   "cell_type": "code",
   "execution_count": null,
   "metadata": {
    "colab": {
     "base_uri": "https://localhost:8080/",
     "height": 286
    },
    "id": "pyNKDB3gnQhj",
    "outputId": "b0688d7d-1568-4388-d349-afbbc7461147"
   },
   "outputs": [],
   "source": [
    "plt.ylim(0, 10)\n",
    "plt.xlim(0, 10)\n",
    "plt.scatter(y_test_pred_lr,test_y,color='black')\n",
    "x = np.linspace(0,1000,100) \n",
    "y=x\n",
    "plt.plot(x, y,color='blue')\n",
    "plt.savefig('lr_plot.png')"
   ]
  },
  {
   "cell_type": "markdown",
   "metadata": {
    "id": "jlyddvy6RJWa"
   },
   "source": [
    "### Random forest"
   ]
  },
  {
   "cell_type": "code",
   "execution_count": null,
   "metadata": {
    "id": "o4a3J8obRG5h"
   },
   "outputs": [],
   "source": [
    "from sklearn.ensemble import RandomForestRegressor\n",
    "\n",
    "# moedl parameters\n",
    "forest_parmas = {'n_estimators':[1300,1500,1700], 'max_depth':range(20,30,4)}\n",
    "\n",
    "Model = RandomForestRegressor(oob_score=True,n_jobs=-1,random_state = 42)\n",
    "\n",
    "Model = get_best_model_and_accuracy(Model,forest_parmas ,train_X, train_y)"
   ]
  },
  {
   "cell_type": "code",
   "execution_count": null,
   "metadata": {
    "id": "MBVQET_aRP6r"
   },
   "outputs": [],
   "source": [
    "Model=Model.best_estimator_\n",
    "Model"
   ]
  },
  {
   "cell_type": "code",
   "execution_count": null,
   "metadata": {
    "id": "NB_f8N0AyDxi"
   },
   "outputs": [],
   "source": [
    "Model.score(test_X,test_y)"
   ]
  },
  {
   "cell_type": "code",
   "execution_count": null,
   "metadata": {
    "id": "YE4S3IAyxQDT"
   },
   "outputs": [],
   "source": [
    "# prediction\n",
    "y_test_pred_forest = Model.predict(test_X)\n",
    "y_train_pred_forest = Model.predict(train_X)\n",
    "\n",
    "# RMSE(RMSE=MSE**0.5)\n",
    "train_RMSE_rf = mean_squared_error(train_y, y_train_pred_forest)**0.5\n",
    "test_RMSE_rf = mean_squared_error(test_y, y_test_pred_forest)**0.5\n",
    "\n",
    "print(\"test_RMSE_rf:\",test_RMSE_rf)\n",
    "print(\"train_RMSE_rf:\",train_RMSE_rf)\n",
    "\n",
    "# r2_score\n",
    "print ('The r2 score of forest on test is', r2_score(test_y, y_test_pred_forest))\n",
    "print ('The r2 score of forest on train is', r2_score(train_y, y_train_pred_forest))"
   ]
  },
  {
   "cell_type": "code",
   "execution_count": null,
   "metadata": {
    "id": "Fx0xmQenl6Ju"
   },
   "outputs": [],
   "source": [
    "plt.ylim(0, 10)\n",
    "plt.xlim(0, 10)\n",
    "plt.scatter(y_test_pred_forest,test_y,color='black')\n",
    "x = np.linspace(0,1000,100) \n",
    "y=x\n",
    "plt.plot(x, y,color='blue')\n",
    "plt.savefig('rf_plot.png')"
   ]
  },
  {
   "cell_type": "markdown",
   "metadata": {
    "id": "w9fyXOB-nUac"
   },
   "source": [
    "###  Ridge regression"
   ]
  },
  {
   "cell_type": "code",
   "execution_count": null,
   "metadata": {
    "id": "gE5LLpL1nThs"
   },
   "outputs": [],
   "source": [
    "from sklearn.linear_model import  RidgeCV,LassoCV\n",
    "# Set the range of hyperparameters (regular parameters)\n",
    "alphas = [ 0.001, 0.01, 0.1, 1, 10,100]\n",
    "# Generate a RidgeCV instance\n",
    "ridge = RidgeCV(alphas=alphas, store_cv_values=True)  \n",
    "\n",
    "# Training model\n",
    "ridge_model = ridge.fit(train_X, train_y)    \n",
    "\n",
    "# prediction\n",
    "y_test_pred_ridge = ridge_model.predict(test_X)\n",
    "y_train_pred_ridge = ridge_model.predict(train_X)\n",
    "\n",
    "\n",
    "# Evaluate, using r2_score, the performance of the model on the test and training sets\n",
    "print ('The r2 score of RidgeCV on test is', r2_score(test_y, y_test_pred_ridge))\n",
    "print ('The r2 score of RidgeCV on train is', r2_score(train_y, y_train_pred_ridge))\n",
    "\n",
    "# RMSE(RMSE=MSE**0.5)\n",
    "train_RMSE_ridge = mean_squared_error(train_y, y_train_pred_ridge)**0.5\n",
    "test_RMSE_ridge = mean_squared_error(test_y, y_test_pred_ridge)**0.5\n",
    "\n",
    "print(\"alphas\" , alphas)\n",
    "print(\"test_RMSE_ridge:\",test_RMSE_ridge)\n",
    "print(\"train_RMSE_ridge:\",train_RMSE_ridge)"
   ]
  },
  {
   "cell_type": "code",
   "execution_count": null,
   "metadata": {
    "id": "QQ2PCXnSoYsG"
   },
   "outputs": [],
   "source": [
    "mse_mean = np.mean(ridge_model.cv_values_, axis = 0)\n",
    "plt.plot(np.log10(alphas), mse_mean.reshape(len(alphas),1)) \n",
    "\n",
    "plt.xlabel('log(alpha)')\n",
    "plt.ylabel('mse')\n",
    "plt.show()\n",
    "\n",
    "print ('alpha is:', ridge.alpha_)"
   ]
  },
  {
   "cell_type": "code",
   "execution_count": null,
   "metadata": {
    "id": "cgRpI9lsm3cX"
   },
   "outputs": [],
   "source": [
    "plt.ylim(0, 10)\n",
    "plt.xlim(0, 10)\n",
    "plt.scatter(y_test_pred_ridge,test_y,color='black')\n",
    "x = np.linspace(0,1000,100) \n",
    "y=x\n",
    "plt.plot(x, y,color='blue')\n",
    "plt.savefig('ridge_plot.png')"
   ]
  },
  {
   "cell_type": "markdown",
   "metadata": {
    "id": "X0i6cLYPyeEL"
   },
   "source": [
    "### xgboost"
   ]
  },
  {
   "cell_type": "code",
   "execution_count": null,
   "metadata": {
    "id": "sA5ZLVrVyldO"
   },
   "outputs": [],
   "source": [
    "# To correctly run this code, an install of xgboost might be needed.\n",
    "import xgboost as xg\n",
    "\n",
    "# Model parameters subsample:for each tree, the proportion of random samples\n",
    "xg_parmas = {'subsample':[i/10.0 for i in range(6,10)],\n",
    "            'colsample_bytree':[i/10.0 for i in range(6,10)]} # Control the percentage of columns sampled at random per tree\n",
    "\n",
    "xg_model = xg.XGBRegressor(max_depth=8,min_child_weight=6,gamma=0.4)\n",
    "\n",
    "xg_model = get_best_model_and_accuracy(xg_model,xg_parmas,train_X.values, train_y.values)"
   ]
  },
  {
   "cell_type": "code",
   "execution_count": null,
   "metadata": {
    "id": "v8sxfhuMyqWU"
   },
   "outputs": [],
   "source": [
    "xg_model=xg_model.best_estimator_\n",
    "xg_model"
   ]
  },
  {
   "cell_type": "code",
   "execution_count": null,
   "metadata": {
    "id": "Z1rppuBty0aX"
   },
   "outputs": [],
   "source": [
    "from sklearn.metrics import mean_absolute_error\n",
    "\n",
    "y_train_pred_xg = xg_model.predict(train_X.values)\n",
    "y_test_pred_xg = xg_model.predict(test_X.values)\n",
    "\n",
    "mean_absolute_error(y_test_pred_xg,test_y.values)\n",
    "\n",
    "# RMSE(RMSE=MSE**0.5)\n",
    "test_RMSE_xg = mean_squared_error(test_y.values, y_test_pred_xg)**0.5\n",
    "train_RMSE_xg = mean_squared_error(train_y.values, y_train_pred_xg)**0.5\n",
    "\n",
    "print(\"test_RMSE_xg:\",test_RMSE_xg)\n",
    "print(\"train_RMSE_xg:\",train_RMSE_xg)"
   ]
  },
  {
   "cell_type": "code",
   "execution_count": null,
   "metadata": {
    "id": "1aHH_W9KnDIf"
   },
   "outputs": [],
   "source": [
    "plt.ylim(0, 10)\n",
    "plt.xlim(0, 10)\n",
    "plt.scatter(y_test_pred_xg,test_y.values,color='black')\n",
    "x = np.linspace(0,1000,100) \n",
    "y=x\n",
    "plt.plot(x, y,color='blue')\n",
    "plt.savefig('xg_plot.png')"
   ]
  },
  {
   "cell_type": "code",
   "execution_count": null,
   "metadata": {
    "id": "SKJsqw_U7ahk"
   },
   "outputs": [],
   "source": [
    "print(\"test_RMSE_lr:\",test_RMSE_lr)\n",
    "print(\"test_RMSE_ridge:\",test_RMSE_ridge)\n",
    "print(\"test_RMSE_rf:\",test_RMSE_rf)\n",
    "print(\"test_RMSE_xg:\",test_RMSE_xg)"
   ]
  },
  {
   "cell_type": "code",
   "execution_count": null,
   "metadata": {
    "id": "eIYN7s4XobH7"
   },
   "outputs": [],
   "source": [
    "import cv2\n",
    "#matplotlib\n",
    "base_plot = cv2.imread('base_plot.png')\n",
    "lr_plot = cv2.imread('lr_plot.png')\n",
    "ridge_plot = cv2.imread('ridge_plot.png')\n",
    "rf_plot = cv2.imread('rf_plot.png')\n",
    "xg_plot = cv2.imread('xg_plot.png')\n",
    "\n",
    "plt.figure(figsize=(15,15))\n",
    "\n",
    "plt.subplot(2,3,1)\n",
    "plt.imshow(cv2.cvtColor(lr_plot, cv2.COLOR_BGR2RGB))\n",
    "plt.subplot(2,3,2)\n",
    "plt.imshow(cv2.cvtColor(ridge_plot, cv2.COLOR_BGR2RGB))\n",
    "plt.subplot(2,3,3)\n",
    "plt.imshow(cv2.cvtColor(rf_plot, cv2.COLOR_BGR2RGB))\n",
    "plt.subplot(2,3,4)\n",
    "plt.imshow(cv2.cvtColor(xg_plot, cv2.COLOR_BGR2RGB))\n",
    "plt.subplot(2,3,5)\n",
    "plt.imshow(cv2.cvtColor(base_plot, cv2.COLOR_BGR2RGB))\n",
    "\n",
    "plt.show()"
   ]
  },
  {
   "cell_type": "markdown",
   "metadata": {
    "id": "4CP7PWWYec9j"
   },
   "source": [
    "## learning curve"
   ]
  },
  {
   "cell_type": "code",
   "execution_count": null,
   "metadata": {
    "id": "7JzAjQ82efxq"
   },
   "outputs": [],
   "source": [
    "from sklearn.model_selection import learning_curve\n",
    "\n",
    "def plot_learning_curve(estimator, title, X, y, ylim=None, cv=None, n_jobs=-1, \n",
    "                        train_sizes=np.linspace(.05, 1., 20), verbose=0, plot=True):\n",
    "    \"\"\"\n",
    "        Draw the learning curve of data on a model.\n",
    "    Explanation of parameters\n",
    "    ----------\n",
    "    estimator : The classifier.\n",
    "    title : The title of the table.\n",
    "    x : the input feature, numpy type\n",
    "    y : the input target vector\n",
    "    ylim : tuple format (ymin, ymax), set the lowest and highest point of the vertical coordinate in the image.\n",
    "    cv : the number of copies of the data when doing cross-validation, one of which is used as the cv set, and the remaining n-1 copies are used as training (default is 3 copies)\n",
    "    n_jobs : the number of parallel tasks (default 1)\n",
    "    \"\"\"\n",
    "    train_sizes, train_scores, test_scores = learning_curve(\n",
    "        estimator, X, y, cv=cv, n_jobs=n_jobs, train_sizes=train_sizes, verbose=verbose)\n",
    "    \n",
    "    train_scores_mean = np.mean(train_scores, axis=1)\n",
    "    train_scores_std = np.std(train_scores, axis=1)\n",
    "    test_scores_mean = np.mean(test_scores, axis=1)\n",
    "    test_scores_std = np.std(test_scores, axis=1)\n",
    "    \n",
    "    if plot:\n",
    "        plt.figure()\n",
    "        plt.title(title)\n",
    "        if ylim is not None:\n",
    "            plt.ylim(*ylim)\n",
    "        plt.xlabel(u\"Number of training samples\")\n",
    "        plt.ylabel(u\"Score\")\n",
    "        plt.gca().invert_yaxis()\n",
    "        plt.grid() \n",
    "    \n",
    "        plt.fill_between(train_sizes, train_scores_mean - train_scores_std, train_scores_mean + train_scores_std, \n",
    "                         alpha=0.1, color=\"b\") \n",
    "        plt.fill_between(train_sizes, test_scores_mean - test_scores_std, test_scores_mean + test_scores_std, \n",
    "                         alpha=0.1, color=\"r\")\n",
    "        plt.plot(train_sizes, train_scores_mean, 'o-', color=\"b\", label=u\"train score\")\n",
    "        plt.plot(train_sizes, test_scores_mean, 'o-', color=\"r\", label=u\"test score\")\n",
    "    \n",
    "        plt.legend(loc=\"best\")\n",
    "        \n",
    "        plt.draw()\n",
    "        plt.gca().invert_yaxis()\n",
    "        plt.show()\n",
    "    \n",
    "    midpoint = ((train_scores_mean[-1] + train_scores_std[-1]) + (test_scores_mean[-1] - test_scores_std[-1])) / 2\n",
    "    diff = (train_scores_mean[-1] + train_scores_std[-1]) - (test_scores_mean[-1] - test_scores_std[-1])\n",
    "    return midpoint, diff"
   ]
  },
  {
   "cell_type": "code",
   "execution_count": null,
   "metadata": {
    "id": "qK2-jAjPi6hB"
   },
   "outputs": [],
   "source": [
    "plot_learning_curve(lr_model, u\"Learning curve\",train_X,train_y)"
   ]
  },
  {
   "cell_type": "code",
   "execution_count": null,
   "metadata": {
    "id": "OR-Ey8e3ilx5"
   },
   "outputs": [],
   "source": [
    "plot_learning_curve(ridge_model, u\"Learning curve\",train_X,train_y)"
   ]
  },
  {
   "cell_type": "code",
   "execution_count": null,
   "metadata": {
    "id": "pNHP4Ygzeg3q"
   },
   "outputs": [],
   "source": [
    "plot_learning_curve(Model, u\"Learning curve\",train_X,train_y)"
   ]
  },
  {
   "cell_type": "code",
   "execution_count": null,
   "metadata": {
    "id": "XnQT2oNIuNy8"
   },
   "outputs": [],
   "source": [
    "plot_learning_curve(xg_model, u\"Learning curve\",\n",
    "                    train_X.values,train_y.values)"
   ]
  },
  {
   "cell_type": "code",
   "execution_count": null,
   "metadata": {
    "id": "e0nyy0ZzryBL"
   },
   "outputs": [],
   "source": [
    "Bike"
   ]
  }
 ],
 "metadata": {
  "accelerator": "TPU",
  "colab": {
   "collapsed_sections": [
    "AWc-d7oZkuSE",
    "LpTx8I2glfoP",
    "Qg1MBSU71wsr",
    "eoZSh7XLWSr3",
    "Dv_55AfB2U2W",
    "bxKV5eOp3Sq0",
    "IW1vSWgWS-R7",
    "MsN79BoeV42j",
    "FlaeYKNnV-bS",
    "3w7PR-g4Wlh1",
    "mpPBUy2KWzTp"
   ],
   "machine_shape": "hm",
   "name": "intro to AI CW-323.ipynb",
   "provenance": []
  },
  "interpreter": {
   "hash": "cf1ee66cb0a5dbbe9b15b35d8b5ef163dfe6de55254de5ac3d70cf481ad0a057"
  },
  "kernelspec": {
   "display_name": "Python 3.9.7 ('base')",
   "language": "python",
   "name": "python3"
  },
  "language_info": {
   "codemirror_mode": {
    "name": "ipython",
    "version": 3
   },
   "file_extension": ".py",
   "mimetype": "text/x-python",
   "name": "python",
   "nbconvert_exporter": "python",
   "pygments_lexer": "ipython3",
   "version": "3.9.7"
  }
 },
 "nbformat": 4,
 "nbformat_minor": 1
}
